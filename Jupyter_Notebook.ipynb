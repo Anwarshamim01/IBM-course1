{
 "cells": [
  {
   "cell_type": "markdown",
   "metadata": {},
   "source": [
    "<center>\n",
    "    <img src=\"https://s3-api.us-geo.objectstorage.softlayer.net/cf-courses-data/CognitiveClass/Logos/organization_logo/organization_logo.png\" width=\"300\" alt=\"cognitiveclass.ai logo\"  />\n",
    "</center>\n"
   ]
  },
  {
   "cell_type": "markdown",
   "metadata": {},
   "source": [
    "#### Add your code below following the instructions given in the course\n"
   ]
  },
  {
   "cell_type": "markdown",
   "metadata": {},
   "source": [
    "<a href=\"https://dataplatform.cloud.ibm.com/gallery\">IBM Cloud Gallery</a>"
   ]
  },
  {
   "cell_type": "markdown",
   "metadata": {},
   "source": [
    " # My Jupyter Notebook on IBM Watson Studio"
   ]
  },
  {
   "cell_type": "markdown",
   "metadata": {},
   "source": [
    "***Anwar Shamim***\n",
    "\n",
    "***Data Scientist***"
   ]
  },
  {
   "cell_type": "markdown",
   "metadata": {},
   "source": [
    "*I am interested in Data Science for its power to tranform businesses , science through mathematics*"
   ]
  },
  {
   "cell_type": "markdown",
   "metadata": {},
   "source": [
    "### Finding Even number in a array"
   ]
  },
  {
   "cell_type": "code",
   "execution_count": 17,
   "metadata": {},
   "outputs": [
    {
     "name": "stdin",
     "output_type": "stream",
     "text": [
      "Enter any whole number other than zero 12\n",
      "Enter any whole number other than zero 23\n",
      "Enter any whole number other than zero 36\n",
      "Enter any whole number other than zero 887\n",
      "Enter any whole number other than zero 988\n",
      "Enter any whole number other than zero 645\n"
     ]
    },
    {
     "name": "stdout",
     "output_type": "stream",
     "text": [
      "[ 12  23  36 887 988 645]\n",
      "even\n",
      "odd\n",
      "even\n",
      "odd\n",
      "even\n",
      "odd\n"
     ]
    }
   ],
   "source": [
    "import numpy as np\n",
    "array= []\n",
    "\n",
    "for l in range(6):\n",
    "    number=input(\"Enter any whole number other than zero\",)\n",
    "    array.append(number)\n",
    "array = np.array(array, dtype='int')\n",
    "print(array)        \n",
    "for i in range(6):\n",
    "    if array[i]%2==0:\n",
    "        print(\"even\")\n",
    "    else:\n",
    "        print(\"odd\")"
   ]
  },
  {
   "cell_type": "markdown",
   "metadata": {},
   "source": [
    "- My homework\n",
    "\n",
    "- jupyter note book\n",
    "\n",
    "\n",
    "\n",
    "\n",
    "\n",
    "Example of Horizontal line\n",
    "\n",
    "---\n",
    "\n",
    "\n",
    "\n",
    "example of numbered list\n",
    "\n",
    "<ol>\n",
    "    <li>Data</li>\n",
    "    <li>Cleaning</li>\n",
    "    <li>Processing</li>\n",
    "</ol>   \n",
    "\n",
    "\n",
    "\n",
    "\n",
    "\n",
    "\n",
    "<a> \"https//www.google.com\" > embedded link example </a>\n",
    "\n",
    "\n",
    "\n",
    "\n",
    "\n",
    "\n",
    "Table example\n",
    "\n",
    "|name|email|\n",
    "|-----|-----|\n",
    "|anwar|ok.gmail.com|\n"
   ]
  },
  {
   "cell_type": "code",
   "execution_count": null,
   "metadata": {},
   "outputs": [],
   "source": []
  }
 ],
 "metadata": {
  "kernelspec": {
   "display_name": "Python",
   "language": "python",
   "name": "conda-env-python-py"
  },
  "language_info": {
   "codemirror_mode": {
    "name": "ipython",
    "version": 3
   },
   "file_extension": ".py",
   "mimetype": "text/x-python",
   "name": "python",
   "nbconvert_exporter": "python",
   "pygments_lexer": "ipython3",
   "version": "3.7.12"
  }
 },
 "nbformat": 4,
 "nbformat_minor": 4
}
